{
 "cells": [
  {
   "cell_type": "code",
   "execution_count": 6,
   "metadata": {},
   "outputs": [],
   "source": [
    "import pandas as pd\n",
    "import pyarrow as pa\n",
    "import pyarrow.parquet as pq\n",
    "from pyarrow import csv\n",
    "\n",
    "def summarize_columns(df):\n",
    "    print(pd.DataFrame([\n",
    "        (\n",
    "            c,\n",
    "            df[c].dtype,\n",
    "            len(df[c].unique()),\n",
    "            df[c].memory_usage(deep=True) // (1024**2)\n",
    "        ) for c in df.columns\n",
    "    ], columns=['name', 'dtype', 'unique', 'size (MB)']))\n",
    "    print('Total size:', df.memory_usage(deep=True).sum() / 1024**2, 'MB')"
   ]
  },
  {
   "cell_type": "markdown",
   "metadata": {},
   "source": [
    "### Optimize dataframe ###\n",
    "To get the optimized dataframe, run the first 3 cells including the import cell. This should write out a new csv file in the data/ folder. Running the optimizer function will take some time (5-10 min) but should only be required once.\n",
    "\n",
    "To load the new dataframe either use the standard ``pd.read_csv`` or ideally use pyarrow: \n",
    "\n",
    "``from pyarrow import csv`` \\\n",
    "``table = csv.read_csv(\"data/CaseRigshospitalet_optimized.csv\")``  \\\n",
    "``df = table.to_pandas()``\n"
   ]
  },
  {
   "cell_type": "code",
   "execution_count": 7,
   "metadata": {},
   "outputs": [],
   "source": [
    "table = csv.read_csv(\"data/Case Rigshospitalet.csv\")\n",
    "df = table.to_pandas()"
   ]
  },
  {
   "cell_type": "code",
   "execution_count": 9,
   "metadata": {},
   "outputs": [],
   "source": [
    "def optimize_df(df):\n",
    "    df['Kontakt startdato'] = pd.to_datetime(\n",
    "    df['Kontakt startdato'].str.replace(',', '.', regex=False), \n",
    "    format=\"%Y-%m-%d %H:%M:%S.%f\", \n",
    "    errors='coerce'\n",
    "    )\n",
    "    df['Kontakt slutdato'] = pd.to_datetime(\n",
    "        df['Kontakt slutdato'].str.replace(',', '.', regex=False), \n",
    "        format=\"%Y-%m-%d %H:%M:%S.%f\", \n",
    "        errors='coerce'\n",
    "    )\n",
    "    df['Procedure udført'] = pd.to_datetime(\n",
    "        df['Procedure udført'].str.replace(',', '.', regex=False), \n",
    "        format=\"%Y-%m-%d %H:%M:%S.%f\", \n",
    "            errors='coerce'\n",
    "    )\n",
    "\n",
    "    df['Patient ID'] = df['Patient ID'].astype('category')\n",
    "    df['Patient alder på kontaktstart tidspunkt'] = pd.to_numeric(df['Patient alder på kontaktstart tidspunkt'], errors='coerce').astype('Int16')\n",
    "    df['Kontakt startdato'] = pd.to_datetime(df['Kontakt startdato'], format='mixed')\n",
    "    df['Kontakt slutdato'] = pd.to_datetime(df['Kontakt slutdato'], format='mixed')\n",
    "    df['Kontakttype'] = df['Kontakttype'].astype('category')\n",
    "    df['Indlæggelsesmåde'] = df['Indlæggelsesmåde'].astype('category')\n",
    "    df['Patientkontakttype'] = df['Patientkontakttype'].astype('category')\n",
    "    df['Aktionsdiagnosekode'] = df['Aktionsdiagnosekode'].astype('category')\n",
    "    df['Bidiagnosekode'] = df['Bidiagnosekode'].astype('category')\n",
    "    df['Behandlingsansvarlig Afdeling'] = df['Behandlingsansvarlig Afdeling'].astype('category')\n",
    "    df['Procedure-kode'] = df['Procedure-kode'].astype('category')\n",
    "    df['Procedure-tillægskoder'] = df['Procedure-tillægskoder'].astype('category')\n",
    "    df['Procedure udført'] = pd.to_datetime(df['Procedure udført'], format='mixed')\n",
    "    \n",
    "    # Ensure conversion runs only if needed\n",
    "    if df['Kontakt varighed (timer)'].dtype == 'object':  \n",
    "        df['Kontakt varighed (timer)'] = df['Kontakt varighed (timer)'].str.replace(',', '.').astype('float32')\n",
    "\n",
    "    df['Besøgstype'] = df['Besøgstype'].astype('category')\n",
    "    df['Patient køn'] = df['Patient køn'].astype('category')\n",
    "    df['Patient civilstand'] = df['Patient civilstand'].astype('category')\n",
    "    df['Patient oprettet på Min SP (J/N)'] = df['Patient oprettet på Min SP (J/N)'].astype('category')\n",
    "    df['Patient land'] = df['Patient land'].astype('category')\n",
    "    df['Patient region'] = df['Patient region'].astype('category')\n",
    "    df['Patient postnummer'] = pd.to_numeric(df['Patient postnummer'], errors='coerce').astype('Int32')\n",
    "    df['Patient kommune'] = df['Patient kommune'].astype('category')\n",
    "\n",
    "    return df\n",
    "\n",
    "# Optimize DataFrame\n",
    "opt_df = optimize_df(df)\n",
    "\n",
    "# Convert to PyArrow Table and save as Parquet\n",
    "table = pa.Table.from_pandas(opt_df)\n",
    "pq.write_table(table, \"data/CaseRigshospitalet_optimized.parquet\")"
   ]
  },
  {
   "cell_type": "code",
   "execution_count": 10,
   "metadata": {},
   "outputs": [
    {
     "name": "stdout",
     "output_type": "stream",
     "text": [
      "<class 'pandas.core.frame.DataFrame'>\n",
      "RangeIndex: 4658066 entries, 0 to 4658065\n",
      "Data columns (total 24 columns):\n",
      " #   Column                                   Dtype         \n",
      "---  ------                                   -----         \n",
      " 0   Patient ID                               category      \n",
      " 1   Patientkontakt ID                        int64         \n",
      " 2   Patient alder på kontaktstart tidspunkt  Int16         \n",
      " 3   Kontakt startdato                        datetime64[ns]\n",
      " 4   Kontakt slutdato                         datetime64[ns]\n",
      " 5   Kontakttype                              category      \n",
      " 6   Indlæggelsesmåde                         category      \n",
      " 7   Patientkontakttype                       category      \n",
      " 8   Aktionsdiagnosekode                      category      \n",
      " 9   Bidiagnosekode                           category      \n",
      " 10  Behandlingsansvarlig Afdeling            category      \n",
      " 11  Kontakt varighed (timer)                 float32       \n",
      " 12  Procedure-kode                           category      \n",
      " 13  Procedure-tillægskoder                   category      \n",
      " 14  Procedure udført                         datetime64[ns]\n",
      " 15  Behandlingskontakt ID                    object        \n",
      " 16  Besøgstype                               category      \n",
      " 17  Patient køn                              category      \n",
      " 18  Patient civilstand                       category      \n",
      " 19  Patient oprettet på Min SP (J/N)         category      \n",
      " 20  Patient land                             category      \n",
      " 21  Patient region                           category      \n",
      " 22  Patient postnummer                       Int32         \n",
      " 23  Patient kommune                          category      \n",
      "dtypes: Int16(1), Int32(1), category(16), datetime64[ns](3), float32(1), int64(1), object(1)\n",
      "memory usage: 353.5+ MB\n"
     ]
    }
   ],
   "source": [
    "opt_df.info()"
   ]
  },
  {
   "cell_type": "code",
   "execution_count": 11,
   "metadata": {},
   "outputs": [
    {
     "name": "stdout",
     "output_type": "stream",
     "text": [
      "                                       name           dtype   unique  \\\n",
      "0                                Patient ID        category   331763   \n",
      "1                         Patientkontakt ID           int64  1821200   \n",
      "2   Patient alder på kontaktstart tidspunkt           Int16      109   \n",
      "3                         Kontakt startdato  datetime64[ns]   314246   \n",
      "4                          Kontakt slutdato  datetime64[ns]   283384   \n",
      "5                               Kontakttype        category        3   \n",
      "6                          Indlæggelsesmåde        category        2   \n",
      "7                        Patientkontakttype        category        3   \n",
      "8                       Aktionsdiagnosekode        category     8195   \n",
      "9                            Bidiagnosekode        category     6416   \n",
      "10            Behandlingsansvarlig Afdeling        category       68   \n",
      "11                 Kontakt varighed (timer)         float32     1462   \n",
      "12                           Procedure-kode        category     3234   \n",
      "13                   Procedure-tillægskoder        category     2106   \n",
      "14                         Procedure udført  datetime64[ns]   314700   \n",
      "15                    Behandlingskontakt ID          object  1917825   \n",
      "16                               Besøgstype        category      999   \n",
      "17                              Patient køn        category        4   \n",
      "18                       Patient civilstand        category        9   \n",
      "19         Patient oprettet på Min SP (J/N)        category        2   \n",
      "20                             Patient land        category      112   \n",
      "21                           Patient region        category       10   \n",
      "22                       Patient postnummer           Int32     1633   \n",
      "23                          Patient kommune        category      144   \n",
      "\n",
      "    size (MB)  \n",
      "0          46  \n",
      "1          35  \n",
      "2          13  \n",
      "3          35  \n",
      "4          35  \n",
      "5           4  \n",
      "6           4  \n",
      "7           4  \n",
      "8           9  \n",
      "9           9  \n",
      "10          4  \n",
      "11         17  \n",
      "12          9  \n",
      "13          9  \n",
      "14         35  \n",
      "15        302  \n",
      "16          9  \n",
      "17          4  \n",
      "18          4  \n",
      "19          4  \n",
      "20          4  \n",
      "21          4  \n",
      "22         22  \n",
      "23          8  \n",
      "Total size: 639.1581144332886 MB\n"
     ]
    }
   ],
   "source": [
    "summarize_columns(df)"
   ]
  },
  {
   "cell_type": "code",
   "execution_count": 12,
   "metadata": {},
   "outputs": [
    {
     "data": {
      "text/plain": [
       "4658066"
      ]
     },
     "execution_count": 12,
     "metadata": {},
     "output_type": "execute_result"
    }
   ],
   "source": [
    "\n",
    "df['Patient ID'].unique()[:10]\n",
    "len(df)"
   ]
  },
  {
   "cell_type": "code",
   "execution_count": 13,
   "metadata": {},
   "outputs": [],
   "source": [
    "def optimize_df(df):\n",
    "    df['Patient ID'] = df['Patient ID'].astype('category')\n",
    "    df['Patient alder på kontaktstart tidspunkt'] =  pd.to_numeric(df['Patient alder på kontaktstart tidspunkt'], errors='coerce').astype('Int16')\n",
    "    df['Kontakt startdato'] = pd.to_datetime(df['Kontakt startdato'], format='mixed')\n",
    "    df['Kontakt slutdato'] = pd.to_datetime(df['Kontakt slutdato'], format='mixed')\n",
    "    df['Kontakttype'] = df['Kontakttype'].astype('category')\n",
    "    df['Indlæggelsesmåde'] = df['Indlæggelsesmåde'].astype('category')\n",
    "    df['Patientkontakttype'] = df['Patientkontakttype'].astype('category')\n",
    "    df['Aktionsdiagnosekode'] = df['Aktionsdiagnosekode'].astype('category')\n",
    "    df['Bidiagnosekode'] = df['Bidiagnosekode'].astype('category')\n",
    "    df['Behandlingsansvarlig Afdeling'] = df['Behandlingsansvarlig Afdeling'].astype('category')\n",
    "    df['Procedure-kode'] = df['Procedure-kode'].astype('category')\n",
    "    df['Procedure-tillægskoder'] = df['Procedure-tillægskoder'].astype('category')\n",
    "    df['Procedure udført'] = pd.to_datetime(df['Procedure udført'], format='mixed')\n",
    "    \n",
    "    if df['Kontakt varighed (timer)'].dtype == 'object':  \n",
    "        df['Kontakt varighed (timer)'] = df['Kontakt varighed (timer)'].str.replace(',', '.').astype('float32')\n",
    "    df['Besøgstype'] = df['Besøgstype'].astype('category')\n",
    "    df['Patient køn'] = df['Patient køn'].astype('category')\n",
    "    df['Patient civilstand'] = df['Patient civilstand'].astype('category')\n",
    "    df['Patient oprettet på Min SP (J/N)'] = df['Patient oprettet på Min SP (J/N)'].astype('category')\n",
    "    df['Patient land'] = df['Patient land'].astype('category')\n",
    "    df['Patient region'] = df['Patient region'].astype('category')\n",
    "    df['Patient postnummer'] = pd.to_numeric(df['Patient postnummer'], errors='coerce').astype('Int32')\n",
    "    df['Patient kommune'] = df['Patient kommune'].astype('category')\n",
    "    return df\n",
    "    \n",
    "opt_df = optimize_df(df)\n",
    "    "
   ]
  },
  {
   "cell_type": "code",
   "execution_count": 14,
   "metadata": {},
   "outputs": [
    {
     "name": "stdout",
     "output_type": "stream",
     "text": [
      "                                       name           dtype   unique  \\\n",
      "0                                Patient ID        category   331763   \n",
      "1                         Patientkontakt ID           int64  1821200   \n",
      "2   Patient alder på kontaktstart tidspunkt           Int16      109   \n",
      "3                         Kontakt startdato  datetime64[ns]   314246   \n",
      "4                          Kontakt slutdato  datetime64[ns]   283384   \n",
      "5                               Kontakttype        category        3   \n",
      "6                          Indlæggelsesmåde        category        2   \n",
      "7                        Patientkontakttype        category        3   \n",
      "8                       Aktionsdiagnosekode        category     8195   \n",
      "9                            Bidiagnosekode        category     6416   \n",
      "10            Behandlingsansvarlig Afdeling        category       68   \n",
      "11                 Kontakt varighed (timer)         float32     1462   \n",
      "12                           Procedure-kode        category     3234   \n",
      "13                   Procedure-tillægskoder        category     2106   \n",
      "14                         Procedure udført  datetime64[ns]   314700   \n",
      "15                    Behandlingskontakt ID          object  1917825   \n",
      "16                               Besøgstype        category      999   \n",
      "17                              Patient køn        category        4   \n",
      "18                       Patient civilstand        category        9   \n",
      "19         Patient oprettet på Min SP (J/N)        category        2   \n",
      "20                             Patient land        category      112   \n",
      "21                           Patient region        category       10   \n",
      "22                       Patient postnummer           Int32     1633   \n",
      "23                          Patient kommune        category      144   \n",
      "\n",
      "    size (MB)  \n",
      "0          46  \n",
      "1          35  \n",
      "2          13  \n",
      "3          35  \n",
      "4          35  \n",
      "5           4  \n",
      "6           4  \n",
      "7           4  \n",
      "8           9  \n",
      "9           9  \n",
      "10          4  \n",
      "11         17  \n",
      "12          9  \n",
      "13          9  \n",
      "14         35  \n",
      "15        302  \n",
      "16          9  \n",
      "17          4  \n",
      "18          4  \n",
      "19          4  \n",
      "20          4  \n",
      "21          4  \n",
      "22         22  \n",
      "23          8  \n",
      "Total size: 639.1581144332886 MB\n"
     ]
    }
   ],
   "source": [
    "\n",
    "summarize_columns(opt_df)"
   ]
  },
  {
   "cell_type": "code",
   "execution_count": 15,
   "metadata": {},
   "outputs": [
    {
     "name": "stdout",
     "output_type": "stream",
     "text": [
      "<class 'pandas.core.frame.DataFrame'>\n",
      "RangeIndex: 4658066 entries, 0 to 4658065\n",
      "Data columns (total 24 columns):\n",
      " #   Column                                   Dtype         \n",
      "---  ------                                   -----         \n",
      " 0   Patient ID                               category      \n",
      " 1   Patientkontakt ID                        int64         \n",
      " 2   Patient alder på kontaktstart tidspunkt  Int16         \n",
      " 3   Kontakt startdato                        datetime64[ns]\n",
      " 4   Kontakt slutdato                         datetime64[ns]\n",
      " 5   Kontakttype                              category      \n",
      " 6   Indlæggelsesmåde                         category      \n",
      " 7   Patientkontakttype                       category      \n",
      " 8   Aktionsdiagnosekode                      category      \n",
      " 9   Bidiagnosekode                           category      \n",
      " 10  Behandlingsansvarlig Afdeling            category      \n",
      " 11  Kontakt varighed (timer)                 float32       \n",
      " 12  Procedure-kode                           category      \n",
      " 13  Procedure-tillægskoder                   category      \n",
      " 14  Procedure udført                         datetime64[ns]\n",
      " 15  Behandlingskontakt ID                    object        \n",
      " 16  Besøgstype                               category      \n",
      " 17  Patient køn                              category      \n",
      " 18  Patient civilstand                       category      \n",
      " 19  Patient oprettet på Min SP (J/N)         category      \n",
      " 20  Patient land                             category      \n",
      " 21  Patient region                           category      \n",
      " 22  Patient postnummer                       Int32         \n",
      " 23  Patient kommune                          category      \n",
      "dtypes: Int16(1), Int32(1), category(16), datetime64[ns](3), float32(1), int64(1), object(1)\n",
      "memory usage: 639.2 MB\n"
     ]
    }
   ],
   "source": [
    "df.info(memory_usage=\"deep\")"
   ]
  }
 ],
 "metadata": {
  "kernelspec": {
   "display_name": "mbml",
   "language": "python",
   "name": "python3"
  },
  "language_info": {
   "codemirror_mode": {
    "name": "ipython",
    "version": 3
   },
   "file_extension": ".py",
   "mimetype": "text/x-python",
   "name": "python",
   "nbconvert_exporter": "python",
   "pygments_lexer": "ipython3",
   "version": "3.9.21"
  }
 },
 "nbformat": 4,
 "nbformat_minor": 2
}

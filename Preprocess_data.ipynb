{
 "cells": [
  {
   "cell_type": "code",
   "execution_count": 1,
   "metadata": {},
   "outputs": [
    {
     "ename": "ModuleNotFoundError",
     "evalue": "No module named 'pyarrow'",
     "output_type": "error",
     "traceback": [
      "\u001b[0;31m---------------------------------------------------------------------------\u001b[0m",
      "\u001b[0;31mModuleNotFoundError\u001b[0m                       Traceback (most recent call last)",
      "Cell \u001b[0;32mIn[1], line 2\u001b[0m\n\u001b[1;32m      1\u001b[0m \u001b[38;5;28;01mimport\u001b[39;00m\u001b[38;5;250m \u001b[39m\u001b[38;5;21;01mpandas\u001b[39;00m\u001b[38;5;250m \u001b[39m\u001b[38;5;28;01mas\u001b[39;00m\u001b[38;5;250m \u001b[39m\u001b[38;5;21;01mpd\u001b[39;00m\n\u001b[0;32m----> 2\u001b[0m \u001b[38;5;28;01mimport\u001b[39;00m\u001b[38;5;250m \u001b[39m\u001b[38;5;21;01mpyarrow\u001b[39;00m\u001b[38;5;250m \u001b[39m\u001b[38;5;28;01mas\u001b[39;00m\u001b[38;5;250m \u001b[39m\u001b[38;5;21;01mpa\u001b[39;00m\n\u001b[1;32m      3\u001b[0m \u001b[38;5;28;01mimport\u001b[39;00m\u001b[38;5;250m \u001b[39m\u001b[38;5;21;01mpyarrow\u001b[39;00m\u001b[38;5;21;01m.\u001b[39;00m\u001b[38;5;21;01mparquet\u001b[39;00m\u001b[38;5;250m \u001b[39m\u001b[38;5;28;01mas\u001b[39;00m\u001b[38;5;250m \u001b[39m\u001b[38;5;21;01mpq\u001b[39;00m\n\u001b[1;32m      4\u001b[0m \u001b[38;5;28;01mfrom\u001b[39;00m\u001b[38;5;250m \u001b[39m\u001b[38;5;21;01mpyarrow\u001b[39;00m\u001b[38;5;250m \u001b[39m\u001b[38;5;28;01mimport\u001b[39;00m csv\n",
      "\u001b[0;31mModuleNotFoundError\u001b[0m: No module named 'pyarrow'"
     ]
    }
   ],
   "source": [
    "import pandas as pd\n",
    "import pyarrow as pa\n",
    "import pyarrow.parquet as pq\n",
    "from pyarrow import csv\n",
    "\n",
    "def summarize_columns(df):\n",
    "    print(pd.DataFrame([\n",
    "        (\n",
    "            c,\n",
    "            df[c].dtype,\n",
    "            len(df[c].unique()),\n",
    "            df[c].memory_usage(deep=True) // (1024**2)\n",
    "        ) for c in df.columns\n",
    "    ], columns=['name', 'dtype', 'unique', 'size (MB)']))\n",
    "    print('Total size:', df.memory_usage(deep=True).sum() / 1024**2, 'MB')"
   ]
  },
  {
   "cell_type": "markdown",
   "metadata": {},
   "source": [
    "### Optimize dataframe ###\n",
    "To get the optimized dataframe, run the first 3 cells including the import cell. This should write out a new csv file in the data/ folder. Running the optimizer function will take some time (5-10 min) but should only be required once.\n",
    "\n",
    "To load the new dataframe either use the standard ``pd.read_csv`` or ideally use pyarrow: \n",
    "\n",
    "``from pyarrow import csv`` \\\n",
    "``table = csv.read_csv(\"data/CaseRigshospitalet_optimized.csv\")``  \\\n",
    "``df = table.to_pandas()``\n"
   ]
  },
  {
   "cell_type": "code",
   "execution_count": 6,
   "metadata": {},
   "outputs": [],
   "source": [
    "table = csv.read_csv(\"data/CaseRigshospitalet.csv\")\n",
    "df = table.to_pandas()"
   ]
  },
  {
   "cell_type": "code",
   "execution_count": 7,
   "metadata": {},
   "outputs": [],
   "source": [
    "def optimize_df(df):\n",
    "    df['Patient ID'] = df['Patient ID'].astype('category')\n",
    "    df['Patient alder på kontaktstart tidspunkt'] = pd.to_numeric(df['Patient alder på kontaktstart tidspunkt'], errors='coerce').astype('Int16')\n",
    "    df['Kontakt startdato'] = pd.to_datetime(df['Kontakt startdato'], format='mixed')\n",
    "    df['Kontakt slutdato'] = pd.to_datetime(df['Kontakt slutdato'], format='mixed')\n",
    "    df['Kontakttype'] = df['Kontakttype'].astype('category')\n",
    "    df['Indlæggelsesmåde'] = df['Indlæggelsesmåde'].astype('category')\n",
    "    df['Patientkontakttype'] = df['Patientkontakttype'].astype('category')\n",
    "    df['Aktionsdiagnosekode'] = df['Aktionsdiagnosekode'].astype('category')\n",
    "    df['Bidiagnosekode'] = df['Bidiagnosekode'].astype('category')\n",
    "    df['Behandlingsansvarlig Afdeling'] = df['Behandlingsansvarlig Afdeling'].astype('category')\n",
    "    df['Procedure-kode'] = df['Procedure-kode'].astype('category')\n",
    "    df['Procedure-tillægskoder'] = df['Procedure-tillægskoder'].astype('category')\n",
    "    df['Procedure udført'] = pd.to_datetime(df['Procedure udført'], format='mixed')\n",
    "    \n",
    "    # Ensure conversion runs only if needed\n",
    "    if df['Kontakt varighed (timer)'].dtype == 'object':  \n",
    "        df['Kontakt varighed (timer)'] = df['Kontakt varighed (timer)'].str.replace(',', '.').astype('float32')\n",
    "\n",
    "    df['Besøgstype'] = df['Besøgstype'].astype('category')\n",
    "    df['Patient køn'] = df['Patient køn'].astype('category')\n",
    "    df['Patient civilstand'] = df['Patient civilstand'].astype('category')\n",
    "    df['Patient oprettet på Min SP (J/N)'] = df['Patient oprettet på Min SP (J/N)'].astype('category')\n",
    "    df['Patient land'] = df['Patient land'].astype('category')\n",
    "    df['Patient region'] = df['Patient region'].astype('category')\n",
    "    df['Patient postnummer'] = pd.to_numeric(df['Patient postnummer'], errors='coerce').astype('Int32')\n",
    "    df['Patient kommune'] = df['Patient kommune'].astype('category')\n",
    "\n",
    "    return df\n",
    "\n",
    "# Optimize DataFrame\n",
    "opt_df = optimize_df(df)\n",
    "\n",
    "# Convert to PyArrow Table and save as Parquet\n",
    "table = pa.Table.from_pandas(opt_df)\n",
    "pq.write_table(table, \"data/CaseRigshospitalet_optimized.parquet\")"
   ]
  },
  {
   "cell_type": "code",
   "execution_count": 8,
   "metadata": {},
   "outputs": [
    {
     "name": "stdout",
     "output_type": "stream",
     "text": [
      "<class 'pandas.core.frame.DataFrame'>\n",
      "RangeIndex: 4658066 entries, 0 to 4658065\n",
      "Data columns (total 24 columns):\n",
      " #   Column                                   Dtype         \n",
      "---  ------                                   -----         \n",
      " 0   Patient ID                               category      \n",
      " 1   Patientkontakt ID                        int64         \n",
      " 2   Patient alder på kontaktstart tidspunkt  Int16         \n",
      " 3   Kontakt startdato                        datetime64[ns]\n",
      " 4   Kontakt slutdato                         datetime64[ns]\n",
      " 5   Kontakttype                              category      \n",
      " 6   Indlæggelsesmåde                         category      \n",
      " 7   Patientkontakttype                       category      \n",
      " 8   Aktionsdiagnosekode                      category      \n",
      " 9   Bidiagnosekode                           category      \n",
      " 10  Behandlingsansvarlig Afdeling            category      \n",
      " 11  Kontakt varighed (timer)                 float32       \n",
      " 12  Procedure-kode                           category      \n",
      " 13  Procedure-tillægskoder                   category      \n",
      " 14  Procedure udført                         datetime64[ns]\n",
      " 15  Behandlingskontakt ID                    object        \n",
      " 16  Besøgstype                               category      \n",
      " 17  Patient køn                              category      \n",
      " 18  Patient civilstand                       category      \n",
      " 19  Patient oprettet på Min SP (J/N)         category      \n",
      " 20  Patient land                             category      \n",
      " 21  Patient region                           category      \n",
      " 22  Patient postnummer                       Int32         \n",
      " 23  Patient kommune                          category      \n",
      "dtypes: Int16(1), Int32(1), category(16), datetime64[ns](3), float32(1), int64(1), object(1)\n",
      "memory usage: 353.5+ MB\n"
     ]
    }
   ],
   "source": [
    "opt_df.info()"
   ]
  },
  {
   "cell_type": "code",
   "execution_count": 71,
   "metadata": {},
   "outputs": [
    {
     "name": "stdout",
     "output_type": "stream",
     "text": [
      "                                       name     dtype   unique  size (MB)\n",
      "0                                Patient ID  category   331763         46\n",
      "1                         Patientkontakt ID     int64  1821200         35\n",
      "2   Patient alder på kontaktstart tidspunkt     Int16      109         13\n",
      "3                         Kontakt startdato    object   314246        355\n",
      "4                          Kontakt slutdato    object   283384        355\n",
      "5                               Kontakttype    object        3        480\n",
      "6                          Indlæggelsesmåde    object        2        288\n",
      "7                        Patientkontakttype    object        3        299\n",
      "8                       Aktionsdiagnosekode    object     8195        276\n",
      "9                            Bidiagnosekode    object     6416        259\n",
      "10            Behandlingsansvarlig Afdeling    object       68        596\n",
      "11                 Kontakt varighed (timer)    object     1462        269\n",
      "12                           Procedure-kode    object     3234        279\n",
      "13                   Procedure-tillægskoder    object     2106        262\n",
      "14                         Procedure udført    object   314700        354\n",
      "15                    Behandlingskontakt ID    object  1917825        302\n",
      "16                               Besøgstype    object      999        336\n",
      "17                              Patient køn    object        4        276\n",
      "18                       Patient civilstand    object        9        281\n",
      "19         Patient oprettet på Min SP (J/N)    object        2        257\n",
      "20                             Patient land    object      112        284\n",
      "21                           Patient region    object       10        341\n",
      "22                       Patient postnummer    object     1710        270\n",
      "23                          Patient kommune    object      144        384\n",
      "Total size: 6909.749268531799 MB\n"
     ]
    }
   ],
   "source": [
    "summarize_columns(df)"
   ]
  },
  {
   "cell_type": "code",
   "execution_count": 69,
   "metadata": {},
   "outputs": [
    {
     "data": {
      "text/plain": [
       "4658066"
      ]
     },
     "execution_count": 69,
     "metadata": {},
     "output_type": "execute_result"
    }
   ],
   "source": [
    "\n",
    "df['Patient ID'].unique()[:10]\n",
    "len(df)"
   ]
  },
  {
   "cell_type": "code",
   "execution_count": 70,
   "metadata": {},
   "outputs": [
    {
     "ename": "KeyboardInterrupt",
     "evalue": "",
     "output_type": "error",
     "traceback": [
      "\u001b[1;31m---------------------------------------------------------------------------\u001b[0m",
      "\u001b[1;31mKeyboardInterrupt\u001b[0m                         Traceback (most recent call last)",
      "Cell \u001b[1;32mIn[70], line 28\u001b[0m\n\u001b[0;32m     25\u001b[0m     df[\u001b[38;5;124m'\u001b[39m\u001b[38;5;124mPatient kommune\u001b[39m\u001b[38;5;124m'\u001b[39m] \u001b[38;5;241m=\u001b[39m df[\u001b[38;5;124m'\u001b[39m\u001b[38;5;124mPatient kommune\u001b[39m\u001b[38;5;124m'\u001b[39m]\u001b[38;5;241m.\u001b[39mastype(\u001b[38;5;124m'\u001b[39m\u001b[38;5;124mcategory\u001b[39m\u001b[38;5;124m'\u001b[39m)\n\u001b[0;32m     26\u001b[0m     \u001b[38;5;28;01mreturn\u001b[39;00m df\n\u001b[1;32m---> 28\u001b[0m opt_df \u001b[38;5;241m=\u001b[39m \u001b[43moptimize_df\u001b[49m\u001b[43m(\u001b[49m\u001b[43mdf\u001b[49m\u001b[43m)\u001b[49m\n",
      "Cell \u001b[1;32mIn[70], line 4\u001b[0m, in \u001b[0;36moptimize_df\u001b[1;34m(df)\u001b[0m\n\u001b[0;32m      2\u001b[0m df[\u001b[38;5;124m'\u001b[39m\u001b[38;5;124mPatient ID\u001b[39m\u001b[38;5;124m'\u001b[39m] \u001b[38;5;241m=\u001b[39m df[\u001b[38;5;124m'\u001b[39m\u001b[38;5;124mPatient ID\u001b[39m\u001b[38;5;124m'\u001b[39m]\u001b[38;5;241m.\u001b[39mastype(\u001b[38;5;124m'\u001b[39m\u001b[38;5;124mcategory\u001b[39m\u001b[38;5;124m'\u001b[39m)\n\u001b[0;32m      3\u001b[0m df[\u001b[38;5;124m'\u001b[39m\u001b[38;5;124mPatient alder på kontaktstart tidspunkt\u001b[39m\u001b[38;5;124m'\u001b[39m] \u001b[38;5;241m=\u001b[39m  pd\u001b[38;5;241m.\u001b[39mto_numeric(df[\u001b[38;5;124m'\u001b[39m\u001b[38;5;124mPatient alder på kontaktstart tidspunkt\u001b[39m\u001b[38;5;124m'\u001b[39m], errors\u001b[38;5;241m=\u001b[39m\u001b[38;5;124m'\u001b[39m\u001b[38;5;124mcoerce\u001b[39m\u001b[38;5;124m'\u001b[39m)\u001b[38;5;241m.\u001b[39mastype(\u001b[38;5;124m'\u001b[39m\u001b[38;5;124mInt16\u001b[39m\u001b[38;5;124m'\u001b[39m)\n\u001b[1;32m----> 4\u001b[0m df[\u001b[38;5;124m'\u001b[39m\u001b[38;5;124mKontakt startdato\u001b[39m\u001b[38;5;124m'\u001b[39m] \u001b[38;5;241m=\u001b[39m \u001b[43mpd\u001b[49m\u001b[38;5;241;43m.\u001b[39;49m\u001b[43mto_datetime\u001b[49m\u001b[43m(\u001b[49m\u001b[43mdf\u001b[49m\u001b[43m[\u001b[49m\u001b[38;5;124;43m'\u001b[39;49m\u001b[38;5;124;43mKontakt startdato\u001b[39;49m\u001b[38;5;124;43m'\u001b[39;49m\u001b[43m]\u001b[49m\u001b[43m,\u001b[49m\u001b[43m \u001b[49m\u001b[38;5;28;43mformat\u001b[39;49m\u001b[38;5;241;43m=\u001b[39;49m\u001b[38;5;124;43m'\u001b[39;49m\u001b[38;5;124;43mmixed\u001b[39;49m\u001b[38;5;124;43m'\u001b[39;49m\u001b[43m)\u001b[49m\n\u001b[0;32m      5\u001b[0m df[\u001b[38;5;124m'\u001b[39m\u001b[38;5;124mKontakt slutdato\u001b[39m\u001b[38;5;124m'\u001b[39m] \u001b[38;5;241m=\u001b[39m pd\u001b[38;5;241m.\u001b[39mto_datetime(df[\u001b[38;5;124m'\u001b[39m\u001b[38;5;124mKontakt slutdato\u001b[39m\u001b[38;5;124m'\u001b[39m], \u001b[38;5;28mformat\u001b[39m\u001b[38;5;241m=\u001b[39m\u001b[38;5;124m'\u001b[39m\u001b[38;5;124mmixed\u001b[39m\u001b[38;5;124m'\u001b[39m)\n\u001b[0;32m      6\u001b[0m df[\u001b[38;5;124m'\u001b[39m\u001b[38;5;124mKontakttype\u001b[39m\u001b[38;5;124m'\u001b[39m] \u001b[38;5;241m=\u001b[39m df[\u001b[38;5;124m'\u001b[39m\u001b[38;5;124mKontakttype\u001b[39m\u001b[38;5;124m'\u001b[39m]\u001b[38;5;241m.\u001b[39mastype(\u001b[38;5;124m'\u001b[39m\u001b[38;5;124mcategory\u001b[39m\u001b[38;5;124m'\u001b[39m)\n",
      "File \u001b[1;32mc:\\Users\\jacob\\miniconda3\\envs\\FATA\\lib\\site-packages\\pandas\\core\\tools\\datetimes.py:1067\u001b[0m, in \u001b[0;36mto_datetime\u001b[1;34m(arg, errors, dayfirst, yearfirst, utc, format, exact, unit, infer_datetime_format, origin, cache)\u001b[0m\n\u001b[0;32m   1065\u001b[0m         result \u001b[38;5;241m=\u001b[39m arg\u001b[38;5;241m.\u001b[39mmap(cache_array)\n\u001b[0;32m   1066\u001b[0m     \u001b[38;5;28;01melse\u001b[39;00m:\n\u001b[1;32m-> 1067\u001b[0m         values \u001b[38;5;241m=\u001b[39m \u001b[43mconvert_listlike\u001b[49m\u001b[43m(\u001b[49m\u001b[43marg\u001b[49m\u001b[38;5;241;43m.\u001b[39;49m\u001b[43m_values\u001b[49m\u001b[43m,\u001b[49m\u001b[43m \u001b[49m\u001b[38;5;28;43mformat\u001b[39;49m\u001b[43m)\u001b[49m\n\u001b[0;32m   1068\u001b[0m         result \u001b[38;5;241m=\u001b[39m arg\u001b[38;5;241m.\u001b[39m_constructor(values, index\u001b[38;5;241m=\u001b[39marg\u001b[38;5;241m.\u001b[39mindex, name\u001b[38;5;241m=\u001b[39marg\u001b[38;5;241m.\u001b[39mname)\n\u001b[0;32m   1069\u001b[0m \u001b[38;5;28;01melif\u001b[39;00m \u001b[38;5;28misinstance\u001b[39m(arg, (ABCDataFrame, abc\u001b[38;5;241m.\u001b[39mMutableMapping)):\n",
      "File \u001b[1;32mc:\\Users\\jacob\\miniconda3\\envs\\FATA\\lib\\site-packages\\pandas\\core\\tools\\datetimes.py:435\u001b[0m, in \u001b[0;36m_convert_listlike_datetimes\u001b[1;34m(arg, format, name, utc, unit, errors, dayfirst, yearfirst, exact)\u001b[0m\n\u001b[0;32m    432\u001b[0m \u001b[38;5;28;01mif\u001b[39;00m \u001b[38;5;28mformat\u001b[39m \u001b[38;5;129;01mis\u001b[39;00m \u001b[38;5;129;01mnot\u001b[39;00m \u001b[38;5;28;01mNone\u001b[39;00m \u001b[38;5;129;01mand\u001b[39;00m \u001b[38;5;28mformat\u001b[39m \u001b[38;5;241m!=\u001b[39m \u001b[38;5;124m\"\u001b[39m\u001b[38;5;124mmixed\u001b[39m\u001b[38;5;124m\"\u001b[39m:\n\u001b[0;32m    433\u001b[0m     \u001b[38;5;28;01mreturn\u001b[39;00m _array_strptime_with_fallback(arg, name, utc, \u001b[38;5;28mformat\u001b[39m, exact, errors)\n\u001b[1;32m--> 435\u001b[0m result, tz_parsed \u001b[38;5;241m=\u001b[39m \u001b[43mobjects_to_datetime64\u001b[49m\u001b[43m(\u001b[49m\n\u001b[0;32m    436\u001b[0m \u001b[43m    \u001b[49m\u001b[43marg\u001b[49m\u001b[43m,\u001b[49m\n\u001b[0;32m    437\u001b[0m \u001b[43m    \u001b[49m\u001b[43mdayfirst\u001b[49m\u001b[38;5;241;43m=\u001b[39;49m\u001b[43mdayfirst\u001b[49m\u001b[43m,\u001b[49m\n\u001b[0;32m    438\u001b[0m \u001b[43m    \u001b[49m\u001b[43myearfirst\u001b[49m\u001b[38;5;241;43m=\u001b[39;49m\u001b[43myearfirst\u001b[49m\u001b[43m,\u001b[49m\n\u001b[0;32m    439\u001b[0m \u001b[43m    \u001b[49m\u001b[43mutc\u001b[49m\u001b[38;5;241;43m=\u001b[39;49m\u001b[43mutc\u001b[49m\u001b[43m,\u001b[49m\n\u001b[0;32m    440\u001b[0m \u001b[43m    \u001b[49m\u001b[43merrors\u001b[49m\u001b[38;5;241;43m=\u001b[39;49m\u001b[43merrors\u001b[49m\u001b[43m,\u001b[49m\n\u001b[0;32m    441\u001b[0m \u001b[43m    \u001b[49m\u001b[43mallow_object\u001b[49m\u001b[38;5;241;43m=\u001b[39;49m\u001b[38;5;28;43;01mTrue\u001b[39;49;00m\u001b[43m,\u001b[49m\n\u001b[0;32m    442\u001b[0m \u001b[43m\u001b[49m\u001b[43m)\u001b[49m\n\u001b[0;32m    444\u001b[0m \u001b[38;5;28;01mif\u001b[39;00m tz_parsed \u001b[38;5;129;01mis\u001b[39;00m \u001b[38;5;129;01mnot\u001b[39;00m \u001b[38;5;28;01mNone\u001b[39;00m:\n\u001b[0;32m    445\u001b[0m     \u001b[38;5;66;03m# We can take a shortcut since the datetime64 numpy array\u001b[39;00m\n\u001b[0;32m    446\u001b[0m     \u001b[38;5;66;03m# is in UTC\u001b[39;00m\n\u001b[0;32m    447\u001b[0m     out_unit \u001b[38;5;241m=\u001b[39m np\u001b[38;5;241m.\u001b[39mdatetime_data(result\u001b[38;5;241m.\u001b[39mdtype)[\u001b[38;5;241m0\u001b[39m]\n",
      "File \u001b[1;32mc:\\Users\\jacob\\miniconda3\\envs\\FATA\\lib\\site-packages\\pandas\\core\\arrays\\datetimes.py:2398\u001b[0m, in \u001b[0;36mobjects_to_datetime64\u001b[1;34m(data, dayfirst, yearfirst, utc, errors, allow_object, out_unit)\u001b[0m\n\u001b[0;32m   2395\u001b[0m \u001b[38;5;66;03m# if str-dtype, convert\u001b[39;00m\n\u001b[0;32m   2396\u001b[0m data \u001b[38;5;241m=\u001b[39m np\u001b[38;5;241m.\u001b[39masarray(data, dtype\u001b[38;5;241m=\u001b[39mnp\u001b[38;5;241m.\u001b[39mobject_)\n\u001b[1;32m-> 2398\u001b[0m result, tz_parsed \u001b[38;5;241m=\u001b[39m \u001b[43mtslib\u001b[49m\u001b[38;5;241;43m.\u001b[39;49m\u001b[43marray_to_datetime\u001b[49m\u001b[43m(\u001b[49m\n\u001b[0;32m   2399\u001b[0m \u001b[43m    \u001b[49m\u001b[43mdata\u001b[49m\u001b[43m,\u001b[49m\n\u001b[0;32m   2400\u001b[0m \u001b[43m    \u001b[49m\u001b[43merrors\u001b[49m\u001b[38;5;241;43m=\u001b[39;49m\u001b[43merrors\u001b[49m\u001b[43m,\u001b[49m\n\u001b[0;32m   2401\u001b[0m \u001b[43m    \u001b[49m\u001b[43mutc\u001b[49m\u001b[38;5;241;43m=\u001b[39;49m\u001b[43mutc\u001b[49m\u001b[43m,\u001b[49m\n\u001b[0;32m   2402\u001b[0m \u001b[43m    \u001b[49m\u001b[43mdayfirst\u001b[49m\u001b[38;5;241;43m=\u001b[39;49m\u001b[43mdayfirst\u001b[49m\u001b[43m,\u001b[49m\n\u001b[0;32m   2403\u001b[0m \u001b[43m    \u001b[49m\u001b[43myearfirst\u001b[49m\u001b[38;5;241;43m=\u001b[39;49m\u001b[43myearfirst\u001b[49m\u001b[43m,\u001b[49m\n\u001b[0;32m   2404\u001b[0m \u001b[43m    \u001b[49m\u001b[43mcreso\u001b[49m\u001b[38;5;241;43m=\u001b[39;49m\u001b[43mabbrev_to_npy_unit\u001b[49m\u001b[43m(\u001b[49m\u001b[43mout_unit\u001b[49m\u001b[43m)\u001b[49m\u001b[43m,\u001b[49m\n\u001b[0;32m   2405\u001b[0m \u001b[43m\u001b[49m\u001b[43m)\u001b[49m\n\u001b[0;32m   2407\u001b[0m \u001b[38;5;28;01mif\u001b[39;00m tz_parsed \u001b[38;5;129;01mis\u001b[39;00m \u001b[38;5;129;01mnot\u001b[39;00m \u001b[38;5;28;01mNone\u001b[39;00m:\n\u001b[0;32m   2408\u001b[0m     \u001b[38;5;66;03m# We can take a shortcut since the datetime64 numpy array\u001b[39;00m\n\u001b[0;32m   2409\u001b[0m     \u001b[38;5;66;03m#  is in UTC\u001b[39;00m\n\u001b[0;32m   2410\u001b[0m     \u001b[38;5;28;01mreturn\u001b[39;00m result, tz_parsed\n",
      "File \u001b[1;32mtslib.pyx:414\u001b[0m, in \u001b[0;36mpandas._libs.tslib.array_to_datetime\u001b[1;34m()\u001b[0m\n",
      "File \u001b[1;32mtslib.pyx:553\u001b[0m, in \u001b[0;36mpandas._libs.tslib.array_to_datetime\u001b[1;34m()\u001b[0m\n",
      "File \u001b[1;32mconversion.pyx:641\u001b[0m, in \u001b[0;36mpandas._libs.tslibs.conversion.convert_str_to_tsobject\u001b[1;34m()\u001b[0m\n",
      "File \u001b[1;32mparsing.pyx:336\u001b[0m, in \u001b[0;36mpandas._libs.tslibs.parsing.parse_datetime_string\u001b[1;34m()\u001b[0m\n",
      "File \u001b[1;32mparsing.pyx:660\u001b[0m, in \u001b[0;36mpandas._libs.tslibs.parsing.dateutil_parse\u001b[1;34m()\u001b[0m\n",
      "File \u001b[1;32mc:\\Users\\jacob\\miniconda3\\envs\\FATA\\lib\\site-packages\\dateutil\\parser\\_parser.py:707\u001b[0m, in \u001b[0;36mparser._parse\u001b[1;34m(self, timestr, dayfirst, yearfirst, fuzzy, fuzzy_with_tokens)\u001b[0m\n\u001b[0;32m    666\u001b[0m \u001b[38;5;28;01mdef\u001b[39;00m\u001b[38;5;250m \u001b[39m\u001b[38;5;21m_parse\u001b[39m(\u001b[38;5;28mself\u001b[39m, timestr, dayfirst\u001b[38;5;241m=\u001b[39m\u001b[38;5;28;01mNone\u001b[39;00m, yearfirst\u001b[38;5;241m=\u001b[39m\u001b[38;5;28;01mNone\u001b[39;00m, fuzzy\u001b[38;5;241m=\u001b[39m\u001b[38;5;28;01mFalse\u001b[39;00m,\n\u001b[0;32m    667\u001b[0m            fuzzy_with_tokens\u001b[38;5;241m=\u001b[39m\u001b[38;5;28;01mFalse\u001b[39;00m):\n\u001b[0;32m    668\u001b[0m \u001b[38;5;250m    \u001b[39m\u001b[38;5;124;03m\"\"\"\u001b[39;00m\n\u001b[0;32m    669\u001b[0m \u001b[38;5;124;03m    Private method which performs the heavy lifting of parsing, called from\u001b[39;00m\n\u001b[0;32m    670\u001b[0m \u001b[38;5;124;03m    ``parse()``, which passes on its ``kwargs`` to this function.\u001b[39;00m\n\u001b[1;32m   (...)\u001b[0m\n\u001b[0;32m    705\u001b[0m \n\u001b[0;32m    706\u001b[0m \u001b[38;5;124;03m    \"\"\"\u001b[39;00m\n\u001b[1;32m--> 707\u001b[0m     \u001b[38;5;28;01mif\u001b[39;00m fuzzy_with_tokens:\n\u001b[0;32m    708\u001b[0m         fuzzy \u001b[38;5;241m=\u001b[39m \u001b[38;5;28;01mTrue\u001b[39;00m\n\u001b[0;32m    710\u001b[0m     info \u001b[38;5;241m=\u001b[39m \u001b[38;5;28mself\u001b[39m\u001b[38;5;241m.\u001b[39minfo\n",
      "\u001b[1;31mKeyboardInterrupt\u001b[0m: "
     ]
    }
   ],
   "source": [
    "def optimize_df(df):\n",
    "    df['Patient ID'] = df['Patient ID'].astype('category')\n",
    "    df['Patient alder på kontaktstart tidspunkt'] =  pd.to_numeric(df['Patient alder på kontaktstart tidspunkt'], errors='coerce').astype('Int16')\n",
    "    df['Kontakt startdato'] = pd.to_datetime(df['Kontakt startdato'], format='mixed')\n",
    "    df['Kontakt slutdato'] = pd.to_datetime(df['Kontakt slutdato'], format='mixed')\n",
    "    df['Kontakttype'] = df['Kontakttype'].astype('category')\n",
    "    df['Indlæggelsesmåde'] = df['Indlæggelsesmåde'].astype('category')\n",
    "    df['Patientkontakttype'] = df['Patientkontakttype'].astype('category')\n",
    "    df['Aktionsdiagnosekode'] = df['Aktionsdiagnosekode'].astype('category')\n",
    "    df['Bidiagnosekode'] = df['Bidiagnosekode'].astype('category')\n",
    "    df['Behandlingsansvarlig Afdeling'] = df['Behandlingsansvarlig Afdeling'].astype('category')\n",
    "    df['Procedure-kode'] = df['Procedure-kode'].astype('category')\n",
    "    df['Procedure-tillægskoder'] = df['Procedure-tillægskoder'].astype('category')\n",
    "    df['Procedure udført'] = pd.to_datetime(df['Procedure udført'], format='mixed')\n",
    "    \n",
    "    if df['Kontakt varighed (timer)'].dtype == 'object':  \n",
    "        df['Kontakt varighed (timer)'] = df['Kontakt varighed (timer)'].str.replace(',', '.').astype('float32')\n",
    "    df['Besøgstype'] = df['Besøgstype'].astype('category')\n",
    "    df['Patient køn'] = df['Patient køn'].astype('category')\n",
    "    df['Patient civilstand'] = df['Patient civilstand'].astype('category')\n",
    "    df['Patient oprettet på Min SP (J/N)'] = df['Patient oprettet på Min SP (J/N)'].astype('category')\n",
    "    df['Patient land'] = df['Patient land'].astype('category')\n",
    "    df['Patient region'] = df['Patient region'].astype('category')\n",
    "    df['Patient postnummer'] = pd.to_numeric(df['Patient postnummer'], errors='coerce').astype('Int32')\n",
    "    df['Patient kommune'] = df['Patient kommune'].astype('category')\n",
    "    return df\n",
    "    \n",
    "opt_df = optimize_df(df)\n",
    "    "
   ]
  },
  {
   "cell_type": "code",
   "execution_count": null,
   "metadata": {},
   "outputs": [
    {
     "name": "stdout",
     "output_type": "stream",
     "text": [
      "                                       name           dtype   unique  \\\n",
      "0                                Patient ID        category   331763   \n",
      "1                         Patientkontakt ID           int64  1821200   \n",
      "2   Patient alder på kontaktstart tidspunkt           Int16      109   \n",
      "3                         Kontakt startdato  datetime64[ns]   314246   \n",
      "4                          Kontakt slutdato  datetime64[ns]   283384   \n",
      "5                               Kontakttype        category        3   \n",
      "6                          Indlæggelsesmåde        category        2   \n",
      "7                        Patientkontakttype        category        3   \n",
      "8                       Aktionsdiagnosekode        category     8195   \n",
      "9                            Bidiagnosekode        category     6416   \n",
      "10            Behandlingsansvarlig Afdeling        category       68   \n",
      "11                 Kontakt varighed (timer)         float32     1462   \n",
      "12                           Procedure-kode        category     3234   \n",
      "13                   Procedure-tillægskoder        category     2106   \n",
      "14                         Procedure udført  datetime64[ns]   314700   \n",
      "15                    Behandlingskontakt ID          object  1917825   \n",
      "16                               Besøgstype        category      999   \n",
      "17                              Patient køn        category        4   \n",
      "18                       Patient civilstand        category        9   \n",
      "19         Patient oprettet på Min SP (J/N)        category        2   \n",
      "20                             Patient land        category      112   \n",
      "21                           Patient region        category       10   \n",
      "22                       Patient postnummer           Int32     1633   \n",
      "23                          Patient kommune        category      144   \n",
      "\n",
      "    size (MB)  \n",
      "0          46  \n",
      "1          35  \n",
      "2          13  \n",
      "3          35  \n",
      "4          35  \n",
      "5           4  \n",
      "6           4  \n",
      "7           4  \n",
      "8           9  \n",
      "9           9  \n",
      "10          4  \n",
      "11         17  \n",
      "12          9  \n",
      "13          9  \n",
      "14         35  \n",
      "15        302  \n",
      "16          9  \n",
      "17          4  \n",
      "18          4  \n",
      "19          4  \n",
      "20          4  \n",
      "21          4  \n",
      "22         22  \n",
      "23          8  \n",
      "Total size: 639.1581144332886 MB\n"
     ]
    }
   ],
   "source": [
    "\n",
    "summarize_columns(opt_df)"
   ]
  },
  {
   "cell_type": "code",
   "execution_count": null,
   "metadata": {},
   "outputs": [
    {
     "name": "stdout",
     "output_type": "stream",
     "text": [
      "<class 'pandas.core.frame.DataFrame'>\n",
      "RangeIndex: 4658066 entries, 0 to 4658065\n",
      "Data columns (total 24 columns):\n",
      " #   Column                                   Dtype         \n",
      "---  ------                                   -----         \n",
      " 0   Patient ID                               category      \n",
      " 1   Patientkontakt ID                        int64         \n",
      " 2   Patient alder på kontaktstart tidspunkt  Int16         \n",
      " 3   Kontakt startdato                        datetime64[ns]\n",
      " 4   Kontakt slutdato                         datetime64[ns]\n",
      " 5   Kontakttype                              category      \n",
      " 6   Indlæggelsesmåde                         category      \n",
      " 7   Patientkontakttype                       category      \n",
      " 8   Aktionsdiagnosekode                      category      \n",
      " 9   Bidiagnosekode                           category      \n",
      " 10  Behandlingsansvarlig Afdeling            category      \n",
      " 11  Kontakt varighed (timer)                 float32       \n",
      " 12  Procedure-kode                           category      \n",
      " 13  Procedure-tillægskoder                   category      \n",
      " 14  Procedure udført                         datetime64[ns]\n",
      " 15  Behandlingskontakt ID                    object        \n",
      " 16  Besøgstype                               category      \n",
      " 17  Patient køn                              category      \n",
      " 18  Patient civilstand                       category      \n",
      " 19  Patient oprettet på Min SP (J/N)         category      \n",
      " 20  Patient land                             category      \n",
      " 21  Patient region                           category      \n",
      " 22  Patient postnummer                       Int32         \n",
      " 23  Patient kommune                          category      \n",
      "dtypes: Int16(1), Int32(1), category(16), datetime64[ns](3), float32(1), int64(1), object(1)\n",
      "memory usage: 639.2 MB\n"
     ]
    }
   ],
   "source": [
    "df.info(memory_usage=\"deep\")"
   ]
  }
 ],
 "metadata": {
  "kernelspec": {
   "display_name": "mbml",
   "language": "python",
   "name": "python3"
  },
  "language_info": {
   "codemirror_mode": {
    "name": "ipython",
    "version": 3
   },
   "file_extension": ".py",
   "mimetype": "text/x-python",
   "name": "python",
   "nbconvert_exporter": "python",
   "pygments_lexer": "ipython3",
   "version": "3.11.11"
  }
 },
 "nbformat": 4,
 "nbformat_minor": 2
}

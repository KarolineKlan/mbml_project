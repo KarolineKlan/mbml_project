{
 "cells": [
  {
   "cell_type": "markdown",
   "id": "ee0c54f1",
   "metadata": {},
   "source": [
    "# Analyzing and Modeling Outpatient Activity at Rigshospitalet using Model Based Machine Learning\n",
    "\n",
    "These notebooks were formed as a part of the final project in Model-based machine learning course 42186 at DTU.\n",
    "\n",
    "Team members (Group 12):\n",
    "\n",
    "- Jacob Borregaard Eriksen - s181487 \n",
    "- Marie Juhl Jørgensen - s204052 \n",
    "- Signe Djernis Olsen - s206759 \n",
    "- Karoline Klan Hansen - s214638 \n",
    "\n",
    "Go to our [Github Repository](https://github.com/KarolineKlan/mbml_project) for the collection of the relevant code.\n",
    "\n",
    "The project is divided into three explanatory notebooks, each covering a different modeling approaches. Please read the notebooks in the following order:\n",
    "\n",
    "- [1_Simple_PGM.ipynb](1_Simple_PGM.ipynb) - or the [online version](https://github.com/KarolineKlan/mbml_project/blob/main/1_Simple_PGM.ipynb) in the github\n",
    "\n",
    "- [2_Mixture_Model.ipynb](2_Mixture_Model.ipynb) - or the [online version](https://github.com/KarolineKlan/mbml_project/blob/main/2_Mixture_Model.ipynb) in the github\n",
    "\n",
    "- [3_MCLDA.ipynb](3_MCLDA.ipynb) - or the [online version](https://github.com/KarolineKlan/mbml_project/blob/main/3_MCLDA.ipynb) in the github\n",
    "\n",
    "\n",
    "\n",
    "Helper functions located in the [helper_functions](helper_functions) folder may be imported into the notebooks as needed throughout the project."
   ]
  }
 ],
 "metadata": {
  "language_info": {
   "name": "python"
  }
 },
 "nbformat": 4,
 "nbformat_minor": 5
}

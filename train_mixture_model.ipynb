{
 "cells": [
  {
   "cell_type": "code",
   "execution_count": null,
   "id": "06b623bf",
   "metadata": {},
   "outputs": [
    {
     "ename": "ModuleNotFoundError",
     "evalue": "No module named 'pyro'",
     "output_type": "error",
     "traceback": [
      "\u001b[31m---------------------------------------------------------------------------\u001b[39m",
      "\u001b[31mModuleNotFoundError\u001b[39m                       Traceback (most recent call last)",
      "\u001b[36mCell\u001b[39m\u001b[36m \u001b[39m\u001b[32mIn[1]\u001b[39m\u001b[32m, line 1\u001b[39m\n\u001b[32m----> \u001b[39m\u001b[32m1\u001b[39m \u001b[38;5;28;01mimport\u001b[39;00m\u001b[38;5;250m \u001b[39m\u001b[34;01mpyro\u001b[39;00m\n\u001b[32m      2\u001b[39m \u001b[38;5;28;01mfrom\u001b[39;00m\u001b[38;5;250m \u001b[39m\u001b[34;01mpyro\u001b[39;00m\u001b[34;01m.\u001b[39;00m\u001b[34;01minfer\u001b[39;00m\u001b[38;5;250m \u001b[39m\u001b[38;5;28;01mimport\u001b[39;00m SVI, Trace_ELBO, AutoNormal\n\u001b[32m      3\u001b[39m \u001b[38;5;28;01mfrom\u001b[39;00m\u001b[38;5;250m \u001b[39m\u001b[34;01mpyro\u001b[39;00m\u001b[34;01m.\u001b[39;00m\u001b[34;01moptim\u001b[39;00m\u001b[38;5;250m \u001b[39m\u001b[38;5;28;01mimport\u001b[39;00m ClippedAdam\n",
      "\u001b[31mModuleNotFoundError\u001b[39m: No module named 'pyro'"
     ]
    }
   ],
   "source": [
    "import pyro\n",
    "import pandas as pd\n",
    "from pyro.infer import SVI, Trace_ELBO, AutoNormal\n",
    "from pyro.optim import ClippedAdam\n",
    "from pyro_mixture_model import MixtureModel, MixtureModelGuide"
   ]
  },
  {
   "cell_type": "code",
   "execution_count": null,
   "id": "55bcd1b7",
   "metadata": {},
   "outputs": [],
   "source": [
    "df = pd.read_parquet(\"data/CaseRigshospitalet_summed.parquet\")\n"
   ]
  },
  {
   "cell_type": "code",
   "execution_count": null,
   "id": "7541fe97",
   "metadata": {},
   "outputs": [],
   "source": [
    "def summarize_columns(df):\n",
    "    print(pd.DataFrame([\n",
    "        (\n",
    "            c,\n",
    "            df[c].dtype,\n",
    "            len(df[c].unique()),\n",
    "            df[c].memory_usage(deep=True) // (1024**2)\n",
    "        ) for c in df.columns\n",
    "    ], columns=['name', 'dtype', 'unique', 'size (MB)']))\n",
    "    print('Total size:', df.memory_usage(deep=True).sum() / 1024**2, 'MB')\n",
    "\n",
    "summarize_columns(df)"
   ]
  },
  {
   "cell_type": "code",
   "execution_count": null,
   "id": "1d0ce4bf",
   "metadata": {},
   "outputs": [],
   "source": [
    "# Setup SVI\n",
    "optimizer = ClippedAdam({\"lr\": 0.01})\n",
    "svi = SVI(model, guide, optimizer, loss=Trace_ELBO())\n",
    "\n",
    "# Example training loop\n",
    "def train(num_steps=1000):\n",
    "    for step in range(num_steps):\n",
    "        loss = svi.step(x, d, time, visits)\n",
    "        if step % 100 == 0:\n",
    "            print(f\"Step {step} : loss = {loss}\")\n",
    "\n",
    "# To run:\n",
    "# train(2000)  # adjust steps\n",
    "# After training, inspect pyro.param values for cluster parameters and q_alpha\n"
   ]
  }
 ],
 "metadata": {
  "kernelspec": {
   "display_name": "mbml",
   "language": "python",
   "name": "python3"
  },
  "language_info": {
   "codemirror_mode": {
    "name": "ipython",
    "version": 3
   },
   "file_extension": ".py",
   "mimetype": "text/x-python",
   "name": "python",
   "nbconvert_exporter": "python",
   "pygments_lexer": "ipython3",
   "version": "3.11.11"
  }
 },
 "nbformat": 4,
 "nbformat_minor": 5
}

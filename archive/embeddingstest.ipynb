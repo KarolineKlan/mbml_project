{
 "cells": [
  {
   "cell_type": "code",
   "execution_count": 8,
   "id": "f722d88c",
   "metadata": {},
   "outputs": [],
   "source": [
    "# load data CaseRigshospitalet_optimized.parquet\n",
    "import pandas as pd\n",
    "import pyarrow.parquet as pq\n",
    "from pyarrow import csv\n",
    "import pickle\n",
    "\n",
    "\n",
    "# Load the Parquet file\n",
    "table = csv.read_csv(\"CaseRigshospitalet.csv\")\n",
    "df = table.to_pandas()\n"
   ]
  },
  {
   "cell_type": "code",
   "execution_count": 10,
   "id": "9b066812",
   "metadata": {},
   "outputs": [],
   "source": [
    "with open(\"diagnosis_code_embeddings.pkl\", \"rb\") as f:\n",
    "    code_embeddings = pickle.load(f)\n",
    "\n",
    "    "
   ]
  },
  {
   "cell_type": "code",
   "execution_count": 11,
   "id": "982de517",
   "metadata": {},
   "outputs": [],
   "source": [
    "df[\"embedded\"] = df[\"Aktionsdiagnosekode\"].map(code_embeddings)"
   ]
  },
  {
   "cell_type": "code",
   "execution_count": null,
   "id": "1982e437",
   "metadata": {},
   "outputs": [],
   "source": [
    "import numpy as np\n",
    "from sklearn.metrics.pairwise import cosine_distances\n",
    "import matplotlib.pyplot as plt"
   ]
  },
  {
   "cell_type": "code",
   "execution_count": null,
   "id": "839ea347",
   "metadata": {},
   "outputs": [],
   "source": [
    "reference_code = \"DZ884\"\n",
    "compare_codes = [\"DZ880\", \"DH355C\"]\n",
    "\n",
    "ref_embedding = code_embeddings[reference_code]\n",
    "distances = []\n",
    "\n",
    "for code in compare_codes:\n",
    "    if code in code_embeddings:\n",
    "        dist = cosine_distances([ref_embedding], [code_embeddings[code]])[0][0]\n",
    "        distances.append((code, dist))\n",
    "    else:\n",
    "        print(f\"Code {code} not found in embeddings.\")"
   ]
  },
  {
   "cell_type": "code",
   "execution_count": null,
   "id": "a2efe560",
   "metadata": {},
   "outputs": [],
   "source": [
    "codes, values = zip(*distances)\n",
    "\n",
    "plt.bar(codes, values)\n",
    "plt.ylabel(\"Cosine Distance\")\n",
    "plt.title(f\"Cosine Distance to {reference_code}\")\n",
    "plt.ylim(0, 1)  # cosine distance ranges from 0 (same) to 1 (orthogonal)\n",
    "plt.grid(True, axis='y')\n",
    "plt.show()"
   ]
  }
 ],
 "metadata": {
  "kernelspec": {
   "display_name": "base",
   "language": "python",
   "name": "python3"
  },
  "language_info": {
   "codemirror_mode": {
    "name": "ipython",
    "version": 3
   },
   "file_extension": ".py",
   "mimetype": "text/x-python",
   "name": "python",
   "nbconvert_exporter": "python",
   "pygments_lexer": "ipython3",
   "version": "3.11.11"
  }
 },
 "nbformat": 4,
 "nbformat_minor": 5
}
